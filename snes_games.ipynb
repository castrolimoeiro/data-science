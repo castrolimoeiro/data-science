{
  "nbformat": 4,
  "nbformat_minor": 0,
  "metadata": {
    "colab": {
      "name": "Untitled0.ipynb",
      "provenance": [],
      "collapsed_sections": [],
      "mount_file_id": "1MGnpPM0WM48s_agnqrY91urEC7VOCYFx",
      "authorship_tag": "ABX9TyPQstFzn1Is2OzGuQ/5aYUU",
      "include_colab_link": true
    },
    "kernelspec": {
      "name": "python3",
      "display_name": "Python 3"
    },
    "language_info": {
      "name": "python"
    }
  },
  "cells": [
    {
      "cell_type": "markdown",
      "metadata": {
        "id": "view-in-github",
        "colab_type": "text"
      },
      "source": [
        "<a href=\"https://colab.research.google.com/github/castrolimoeiro/data-science/blob/main/snes_games.ipynb\" target=\"_parent\"><img src=\"https://colab.research.google.com/assets/colab-badge.svg\" alt=\"Open In Colab\"/></a>"
      ]
    },
    {
      "cell_type": "code",
      "metadata": {
        "colab": {
          "base_uri": "https://localhost:8080/"
        },
        "id": "gH4BMMqyB5-7",
        "outputId": "cd6afdf3-aab6-4175-ce77-e1b8f2041ce9"
      },
      "source": [
        "!pip install plotly --upgrade"
      ],
      "execution_count": 1,
      "outputs": [
        {
          "output_type": "stream",
          "text": [
            "Requirement already satisfied: plotly in /usr/local/lib/python3.7/dist-packages (4.4.1)\n",
            "Collecting plotly\n",
            "  Downloading plotly-5.1.0-py2.py3-none-any.whl (20.6 MB)\n",
            "\u001b[K     |████████████████████████████████| 20.6 MB 1.2 MB/s \n",
            "\u001b[?25hRequirement already satisfied: six in /usr/local/lib/python3.7/dist-packages (from plotly) (1.15.0)\n",
            "Collecting tenacity>=6.2.0\n",
            "  Downloading tenacity-8.0.1-py3-none-any.whl (24 kB)\n",
            "Installing collected packages: tenacity, plotly\n",
            "  Attempting uninstall: plotly\n",
            "    Found existing installation: plotly 4.4.1\n",
            "    Uninstalling plotly-4.4.1:\n",
            "      Successfully uninstalled plotly-4.4.1\n",
            "Successfully installed plotly-5.1.0 tenacity-8.0.1\n"
          ],
          "name": "stdout"
        }
      ]
    },
    {
      "cell_type": "code",
      "metadata": {
        "id": "ct6JBQoBCWmb"
      },
      "source": [
        "import pandas as pd\n",
        "import numpy as np\n",
        "import seaborn as sns\n",
        "import matplotlib.pyplot as plt\n",
        "import plotly.express as px"
      ],
      "execution_count": 2,
      "outputs": []
    },
    {
      "cell_type": "code",
      "metadata": {
        "id": "Ywo_9BkxEMiR"
      },
      "source": [
        "snes_games = pd.read_excel('/content/snes_games.xlsx')"
      ],
      "execution_count": 17,
      "outputs": []
    },
    {
      "cell_type": "code",
      "metadata": {
        "colab": {
          "base_uri": "https://localhost:8080/"
        },
        "id": "_UxKkMgTEcLf",
        "outputId": "1cc7d777-e014-4da6-ec19-e613fa005061"
      },
      "source": [
        "snes_games.columns"
      ],
      "execution_count": 18,
      "outputs": [
        {
          "output_type": "execute_result",
          "data": {
            "text/plain": [
              "Index(['Title', 'Developer(s)', 'Publisher(s)', 'Japan', 'North America',\n",
              "       'PAL region'],\n",
              "      dtype='object')"
            ]
          },
          "metadata": {
            "tags": []
          },
          "execution_count": 18
        }
      ]
    },
    {
      "cell_type": "code",
      "metadata": {
        "colab": {
          "base_uri": "https://localhost:8080/",
          "height": 417
        },
        "id": "J1Zrl1fhFlJP",
        "outputId": "74aa32ef-fdeb-4b06-f089-2c3422d97123"
      },
      "source": [
        "snes_games"
      ],
      "execution_count": 19,
      "outputs": [
        {
          "output_type": "execute_result",
          "data": {
            "text/html": [
              "<div>\n",
              "<style scoped>\n",
              "    .dataframe tbody tr th:only-of-type {\n",
              "        vertical-align: middle;\n",
              "    }\n",
              "\n",
              "    .dataframe tbody tr th {\n",
              "        vertical-align: top;\n",
              "    }\n",
              "\n",
              "    .dataframe thead th {\n",
              "        text-align: right;\n",
              "    }\n",
              "</style>\n",
              "<table border=\"1\" class=\"dataframe\">\n",
              "  <thead>\n",
              "    <tr style=\"text-align: right;\">\n",
              "      <th></th>\n",
              "      <th>Title</th>\n",
              "      <th>Developer(s)</th>\n",
              "      <th>Publisher(s)</th>\n",
              "      <th>Japan</th>\n",
              "      <th>North America</th>\n",
              "      <th>PAL region</th>\n",
              "    </tr>\n",
              "  </thead>\n",
              "  <tbody>\n",
              "    <tr>\n",
              "      <th>0</th>\n",
              "      <td>3 Ninjas Kick Back</td>\n",
              "      <td>Malibu Interactive</td>\n",
              "      <td>Sony Imagesoft</td>\n",
              "      <td>Unreleased</td>\n",
              "      <td>June 19, 1994</td>\n",
              "      <td>Unreleased</td>\n",
              "    </tr>\n",
              "    <tr>\n",
              "      <th>1</th>\n",
              "      <td>3×3 Eyes Juuma Houkan</td>\n",
              "      <td>System Supply N-Tech</td>\n",
              "      <td>Banpresto</td>\n",
              "      <td>December 22, 1995</td>\n",
              "      <td>Unreleased</td>\n",
              "      <td>Unreleased</td>\n",
              "    </tr>\n",
              "    <tr>\n",
              "      <th>2</th>\n",
              "      <td>3×3 Eyes Seima Kourin-den</td>\n",
              "      <td>Nova Games</td>\n",
              "      <td>Yutaka</td>\n",
              "      <td>July 28, 1992</td>\n",
              "      <td>Unreleased</td>\n",
              "      <td>Unreleased</td>\n",
              "    </tr>\n",
              "    <tr>\n",
              "      <th>3</th>\n",
              "      <td>3rd Super Robot Wars</td>\n",
              "      <td>Banpresto</td>\n",
              "      <td>Banpresto</td>\n",
              "      <td>July 23, 1993</td>\n",
              "      <td>Unreleased</td>\n",
              "      <td>Unreleased</td>\n",
              "    </tr>\n",
              "    <tr>\n",
              "      <th>4</th>\n",
              "      <td>4 Nin Shougi</td>\n",
              "      <td>Planning Office Wada</td>\n",
              "      <td>Planning Office Wada</td>\n",
              "      <td>July 14, 1995</td>\n",
              "      <td>Unreleased</td>\n",
              "      <td>Unreleased</td>\n",
              "    </tr>\n",
              "    <tr>\n",
              "      <th>...</th>\n",
              "      <td>...</td>\n",
              "      <td>...</td>\n",
              "      <td>...</td>\n",
              "      <td>...</td>\n",
              "      <td>...</td>\n",
              "      <td>...</td>\n",
              "    </tr>\n",
              "    <tr>\n",
              "      <th>2103</th>\n",
              "      <td>Zombies Ate My Neighbors</td>\n",
              "      <td>LucasArts</td>\n",
              "      <td>Konami</td>\n",
              "      <td>Unreleased</td>\n",
              "      <td>September 24, 1993</td>\n",
              "      <td>January 27, 1994</td>\n",
              "    </tr>\n",
              "    <tr>\n",
              "      <th>2104</th>\n",
              "      <td>•ZombiesEU</td>\n",
              "      <td>NaN</td>\n",
              "      <td>NaN</td>\n",
              "      <td>NaN</td>\n",
              "      <td>NaN</td>\n",
              "      <td>NaN</td>\n",
              "    </tr>\n",
              "    <tr>\n",
              "      <th>2105</th>\n",
              "      <td>Zoo-tto Mahjong!</td>\n",
              "      <td>Nintendo</td>\n",
              "      <td>Nintendo</td>\n",
              "      <td>July 1, 1998</td>\n",
              "      <td>Unreleased</td>\n",
              "      <td>Unreleased</td>\n",
              "    </tr>\n",
              "    <tr>\n",
              "      <th>2106</th>\n",
              "      <td>Zool: Ninja of the \"Nth\" Dimension</td>\n",
              "      <td>Gremlin Interactive</td>\n",
              "      <td>GameTek</td>\n",
              "      <td>July 29, 1994</td>\n",
              "      <td>January 1994</td>\n",
              "      <td>1994</td>\n",
              "    </tr>\n",
              "    <tr>\n",
              "      <th>2107</th>\n",
              "      <td>Zoop</td>\n",
              "      <td>Hookstone Productions</td>\n",
              "      <td>Viacom New Media</td>\n",
              "      <td>Unreleased</td>\n",
              "      <td>September 15, 1995</td>\n",
              "      <td>1995</td>\n",
              "    </tr>\n",
              "  </tbody>\n",
              "</table>\n",
              "<p>2108 rows × 6 columns</p>\n",
              "</div>"
            ],
            "text/plain": [
              "                                   Title  ...        PAL region\n",
              "0                     3 Ninjas Kick Back  ...        Unreleased\n",
              "1                  3×3 Eyes Juuma Houkan  ...        Unreleased\n",
              "2              3×3 Eyes Seima Kourin-den  ...        Unreleased\n",
              "3                   3rd Super Robot Wars  ...        Unreleased\n",
              "4                           4 Nin Shougi  ...        Unreleased\n",
              "...                                  ...  ...               ...\n",
              "2103            Zombies Ate My Neighbors  ...  January 27, 1994\n",
              "2104                          •ZombiesEU  ...               NaN\n",
              "2105                    Zoo-tto Mahjong!  ...        Unreleased\n",
              "2106  Zool: Ninja of the \"Nth\" Dimension  ...              1994\n",
              "2107                                Zoop  ...              1995\n",
              "\n",
              "[2108 rows x 6 columns]"
            ]
          },
          "metadata": {
            "tags": []
          },
          "execution_count": 19
        }
      ]
    },
    {
      "cell_type": "code",
      "metadata": {
        "id": "xWjnogysFmvW"
      },
      "source": [
        ""
      ],
      "execution_count": null,
      "outputs": []
    }
  ]
}